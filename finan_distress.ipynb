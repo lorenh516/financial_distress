{
 "cells": [
  {
   "cell_type": "code",
   "execution_count": 1,
   "metadata": {},
   "outputs": [],
   "source": [
    "import numpy as np\n",
    "import pandas as pd\n",
    "import seaborn as sns\n",
    "from matplotlib import pyplot as plt\n",
    "from itertools import product\n",
    "import math\n",
    "import re\n",
    "from sklearn.tree import DecisionTreeClassifier\n",
    "from sklearn.model_selection import train_test_split\n",
    "from sklearn.metrics import accuracy_score as accuracy\n",
    "import graphviz \n",
    "\n",
    "import ml_pipeline_lch as ml\n",
    "import ml_explore as exp\n",
    "import ml_modeling as md\n",
    "import credit_util as crd\n",
    "\n",
    "sns.set(style = \"ticks\", color_codes = True)\n",
    "%matplotlib inline "
   ]
  },
  {
   "cell_type": "markdown",
   "metadata": {},
   "source": [
    "### Read and Pre-Process Data"
   ]
  },
  {
   "cell_type": "markdown",
   "metadata": {},
   "source": [
    "#### Read Data"
   ]
  },
  {
   "cell_type": "code",
   "execution_count": 2,
   "metadata": {},
   "outputs": [],
   "source": [
    "credit_df = ml.retrieve_data(filename = 'data/credit-data.csv', headers = True, set_ind = 0)"
   ]
  },
  {
   "cell_type": "code",
   "execution_count": 3,
   "metadata": {
    "scrolled": true
   },
   "outputs": [
    {
     "data": {
      "text/html": [
       "<div>\n",
       "<style>\n",
       "    .dataframe thead tr:only-child th {\n",
       "        text-align: right;\n",
       "    }\n",
       "\n",
       "    .dataframe thead th {\n",
       "        text-align: left;\n",
       "    }\n",
       "\n",
       "    .dataframe tbody tr th {\n",
       "        vertical-align: top;\n",
       "    }\n",
       "</style>\n",
       "<table border=\"1\" class=\"dataframe\">\n",
       "  <thead>\n",
       "    <tr style=\"text-align: right;\">\n",
       "      <th></th>\n",
       "      <th>SeriousDlqin2yrs</th>\n",
       "      <th>RevolvingUtilizationOfUnsecuredLines</th>\n",
       "      <th>age</th>\n",
       "      <th>zipcode</th>\n",
       "      <th>NumberOfTime30-59DaysPastDueNotWorse</th>\n",
       "      <th>DebtRatio</th>\n",
       "      <th>MonthlyIncome</th>\n",
       "      <th>NumberOfOpenCreditLinesAndLoans</th>\n",
       "      <th>NumberOfTimes90DaysLate</th>\n",
       "      <th>NumberRealEstateLoansOrLines</th>\n",
       "      <th>NumberOfTime60-89DaysPastDueNotWorse</th>\n",
       "      <th>NumberOfDependents</th>\n",
       "    </tr>\n",
       "    <tr>\n",
       "      <th>PersonID</th>\n",
       "      <th></th>\n",
       "      <th></th>\n",
       "      <th></th>\n",
       "      <th></th>\n",
       "      <th></th>\n",
       "      <th></th>\n",
       "      <th></th>\n",
       "      <th></th>\n",
       "      <th></th>\n",
       "      <th></th>\n",
       "      <th></th>\n",
       "      <th></th>\n",
       "    </tr>\n",
       "  </thead>\n",
       "  <tbody>\n",
       "    <tr>\n",
       "      <th>98976</th>\n",
       "      <td>0</td>\n",
       "      <td>1.000000</td>\n",
       "      <td>55</td>\n",
       "      <td>60601</td>\n",
       "      <td>0</td>\n",
       "      <td>505.000000</td>\n",
       "      <td>0.0</td>\n",
       "      <td>2</td>\n",
       "      <td>0</td>\n",
       "      <td>0</td>\n",
       "      <td>0</td>\n",
       "      <td>0.0</td>\n",
       "    </tr>\n",
       "    <tr>\n",
       "      <th>98991</th>\n",
       "      <td>0</td>\n",
       "      <td>0.547745</td>\n",
       "      <td>71</td>\n",
       "      <td>60601</td>\n",
       "      <td>0</td>\n",
       "      <td>0.459565</td>\n",
       "      <td>15666.0</td>\n",
       "      <td>7</td>\n",
       "      <td>0</td>\n",
       "      <td>2</td>\n",
       "      <td>0</td>\n",
       "      <td>0.0</td>\n",
       "    </tr>\n",
       "    <tr>\n",
       "      <th>99012</th>\n",
       "      <td>0</td>\n",
       "      <td>0.044280</td>\n",
       "      <td>51</td>\n",
       "      <td>60601</td>\n",
       "      <td>0</td>\n",
       "      <td>0.014520</td>\n",
       "      <td>4200.0</td>\n",
       "      <td>5</td>\n",
       "      <td>0</td>\n",
       "      <td>0</td>\n",
       "      <td>0</td>\n",
       "      <td>0.0</td>\n",
       "    </tr>\n",
       "    <tr>\n",
       "      <th>99023</th>\n",
       "      <td>0</td>\n",
       "      <td>0.914249</td>\n",
       "      <td>55</td>\n",
       "      <td>60601</td>\n",
       "      <td>4</td>\n",
       "      <td>0.794875</td>\n",
       "      <td>9052.0</td>\n",
       "      <td>12</td>\n",
       "      <td>0</td>\n",
       "      <td>3</td>\n",
       "      <td>0</td>\n",
       "      <td>0.0</td>\n",
       "    </tr>\n",
       "    <tr>\n",
       "      <th>99027</th>\n",
       "      <td>0</td>\n",
       "      <td>0.026599</td>\n",
       "      <td>45</td>\n",
       "      <td>60601</td>\n",
       "      <td>0</td>\n",
       "      <td>0.049966</td>\n",
       "      <td>10406.0</td>\n",
       "      <td>4</td>\n",
       "      <td>0</td>\n",
       "      <td>0</td>\n",
       "      <td>0</td>\n",
       "      <td>2.0</td>\n",
       "    </tr>\n",
       "  </tbody>\n",
       "</table>\n",
       "</div>"
      ],
      "text/plain": [
       "          SeriousDlqin2yrs  RevolvingUtilizationOfUnsecuredLines  age  \\\n",
       "PersonID                                                                \n",
       "98976                    0                              1.000000   55   \n",
       "98991                    0                              0.547745   71   \n",
       "99012                    0                              0.044280   51   \n",
       "99023                    0                              0.914249   55   \n",
       "99027                    0                              0.026599   45   \n",
       "\n",
       "          zipcode  NumberOfTime30-59DaysPastDueNotWorse   DebtRatio  \\\n",
       "PersonID                                                              \n",
       "98976       60601                                     0  505.000000   \n",
       "98991       60601                                     0    0.459565   \n",
       "99012       60601                                     0    0.014520   \n",
       "99023       60601                                     4    0.794875   \n",
       "99027       60601                                     0    0.049966   \n",
       "\n",
       "          MonthlyIncome  NumberOfOpenCreditLinesAndLoans  \\\n",
       "PersonID                                                   \n",
       "98976               0.0                                2   \n",
       "98991           15666.0                                7   \n",
       "99012            4200.0                                5   \n",
       "99023            9052.0                               12   \n",
       "99027           10406.0                                4   \n",
       "\n",
       "          NumberOfTimes90DaysLate  NumberRealEstateLoansOrLines  \\\n",
       "PersonID                                                          \n",
       "98976                           0                             0   \n",
       "98991                           0                             2   \n",
       "99012                           0                             0   \n",
       "99023                           0                             3   \n",
       "99027                           0                             0   \n",
       "\n",
       "          NumberOfTime60-89DaysPastDueNotWorse  NumberOfDependents  \n",
       "PersonID                                                            \n",
       "98976                                        0                 0.0  \n",
       "98991                                        0                 0.0  \n",
       "99012                                        0                 0.0  \n",
       "99023                                        0                 0.0  \n",
       "99027                                        0                 2.0  "
      ]
     },
     "execution_count": 3,
     "metadata": {},
     "output_type": "execute_result"
    }
   ],
   "source": [
    "credit_df.head()"
   ]
  },
  {
   "cell_type": "code",
   "execution_count": 4,
   "metadata": {},
   "outputs": [
    {
     "data": {
      "text/html": [
       "<div>\n",
       "<style>\n",
       "    .dataframe thead tr:only-child th {\n",
       "        text-align: right;\n",
       "    }\n",
       "\n",
       "    .dataframe thead th {\n",
       "        text-align: left;\n",
       "    }\n",
       "\n",
       "    .dataframe tbody tr th {\n",
       "        vertical-align: top;\n",
       "    }\n",
       "</style>\n",
       "<table border=\"1\" class=\"dataframe\">\n",
       "  <thead>\n",
       "    <tr style=\"text-align: right;\">\n",
       "      <th></th>\n",
       "      <th>SeriousDlqin2yrs</th>\n",
       "      <th>RevolvingUtilizationOfUnsecuredLines</th>\n",
       "      <th>age</th>\n",
       "      <th>zipcode</th>\n",
       "      <th>NumberOfTime30-59DaysPastDueNotWorse</th>\n",
       "      <th>DebtRatio</th>\n",
       "      <th>MonthlyIncome</th>\n",
       "      <th>NumberOfOpenCreditLinesAndLoans</th>\n",
       "      <th>NumberOfTimes90DaysLate</th>\n",
       "      <th>NumberRealEstateLoansOrLines</th>\n",
       "      <th>NumberOfTime60-89DaysPastDueNotWorse</th>\n",
       "      <th>NumberOfDependents</th>\n",
       "    </tr>\n",
       "  </thead>\n",
       "  <tbody>\n",
       "    <tr>\n",
       "      <th>count</th>\n",
       "      <td>41016.000</td>\n",
       "      <td>41016.000</td>\n",
       "      <td>41016.000</td>\n",
       "      <td>41016.000</td>\n",
       "      <td>41016.000</td>\n",
       "      <td>41016.000</td>\n",
       "      <td>33042.000</td>\n",
       "      <td>41016.000</td>\n",
       "      <td>41016.00</td>\n",
       "      <td>41016.000</td>\n",
       "      <td>41016.000</td>\n",
       "      <td>39979.000</td>\n",
       "    </tr>\n",
       "    <tr>\n",
       "      <th>mean</th>\n",
       "      <td>0.161</td>\n",
       "      <td>6.376</td>\n",
       "      <td>51.683</td>\n",
       "      <td>60623.824</td>\n",
       "      <td>0.589</td>\n",
       "      <td>331.458</td>\n",
       "      <td>6578.996</td>\n",
       "      <td>8.403</td>\n",
       "      <td>0.42</td>\n",
       "      <td>1.009</td>\n",
       "      <td>0.372</td>\n",
       "      <td>0.773</td>\n",
       "    </tr>\n",
       "    <tr>\n",
       "      <th>std</th>\n",
       "      <td>0.368</td>\n",
       "      <td>221.619</td>\n",
       "      <td>14.747</td>\n",
       "      <td>11.984</td>\n",
       "      <td>5.206</td>\n",
       "      <td>1296.110</td>\n",
       "      <td>13446.826</td>\n",
       "      <td>5.207</td>\n",
       "      <td>5.19</td>\n",
       "      <td>1.154</td>\n",
       "      <td>5.170</td>\n",
       "      <td>1.121</td>\n",
       "    </tr>\n",
       "    <tr>\n",
       "      <th>min</th>\n",
       "      <td>0.000</td>\n",
       "      <td>0.000</td>\n",
       "      <td>21.000</td>\n",
       "      <td>60601.000</td>\n",
       "      <td>0.000</td>\n",
       "      <td>0.000</td>\n",
       "      <td>0.000</td>\n",
       "      <td>0.000</td>\n",
       "      <td>0.00</td>\n",
       "      <td>0.000</td>\n",
       "      <td>0.000</td>\n",
       "      <td>0.000</td>\n",
       "    </tr>\n",
       "    <tr>\n",
       "      <th>25%</th>\n",
       "      <td>0.000</td>\n",
       "      <td>0.034</td>\n",
       "      <td>41.000</td>\n",
       "      <td>60618.000</td>\n",
       "      <td>0.000</td>\n",
       "      <td>0.176</td>\n",
       "      <td>3333.000</td>\n",
       "      <td>5.000</td>\n",
       "      <td>0.00</td>\n",
       "      <td>0.000</td>\n",
       "      <td>0.000</td>\n",
       "      <td>0.000</td>\n",
       "    </tr>\n",
       "    <tr>\n",
       "      <th>50%</th>\n",
       "      <td>0.000</td>\n",
       "      <td>0.190</td>\n",
       "      <td>51.000</td>\n",
       "      <td>60625.000</td>\n",
       "      <td>0.000</td>\n",
       "      <td>0.370</td>\n",
       "      <td>5250.000</td>\n",
       "      <td>8.000</td>\n",
       "      <td>0.00</td>\n",
       "      <td>1.000</td>\n",
       "      <td>0.000</td>\n",
       "      <td>0.000</td>\n",
       "    </tr>\n",
       "    <tr>\n",
       "      <th>75%</th>\n",
       "      <td>0.000</td>\n",
       "      <td>0.667</td>\n",
       "      <td>62.000</td>\n",
       "      <td>60629.000</td>\n",
       "      <td>0.000</td>\n",
       "      <td>0.866</td>\n",
       "      <td>8055.750</td>\n",
       "      <td>11.000</td>\n",
       "      <td>0.00</td>\n",
       "      <td>2.000</td>\n",
       "      <td>0.000</td>\n",
       "      <td>1.000</td>\n",
       "    </tr>\n",
       "    <tr>\n",
       "      <th>max</th>\n",
       "      <td>1.000</td>\n",
       "      <td>22000.000</td>\n",
       "      <td>109.000</td>\n",
       "      <td>60644.000</td>\n",
       "      <td>98.000</td>\n",
       "      <td>106885.000</td>\n",
       "      <td>1794060.000</td>\n",
       "      <td>56.000</td>\n",
       "      <td>98.00</td>\n",
       "      <td>32.000</td>\n",
       "      <td>98.000</td>\n",
       "      <td>13.000</td>\n",
       "    </tr>\n",
       "  </tbody>\n",
       "</table>\n",
       "</div>"
      ],
      "text/plain": [
       "       SeriousDlqin2yrs  RevolvingUtilizationOfUnsecuredLines        age  \\\n",
       "count         41016.000                             41016.000  41016.000   \n",
       "mean              0.161                                 6.376     51.683   \n",
       "std               0.368                               221.619     14.747   \n",
       "min               0.000                                 0.000     21.000   \n",
       "25%               0.000                                 0.034     41.000   \n",
       "50%               0.000                                 0.190     51.000   \n",
       "75%               0.000                                 0.667     62.000   \n",
       "max               1.000                             22000.000    109.000   \n",
       "\n",
       "         zipcode  NumberOfTime30-59DaysPastDueNotWorse   DebtRatio  \\\n",
       "count  41016.000                             41016.000   41016.000   \n",
       "mean   60623.824                                 0.589     331.458   \n",
       "std       11.984                                 5.206    1296.110   \n",
       "min    60601.000                                 0.000       0.000   \n",
       "25%    60618.000                                 0.000       0.176   \n",
       "50%    60625.000                                 0.000       0.370   \n",
       "75%    60629.000                                 0.000       0.866   \n",
       "max    60644.000                                98.000  106885.000   \n",
       "\n",
       "       MonthlyIncome  NumberOfOpenCreditLinesAndLoans  \\\n",
       "count      33042.000                        41016.000   \n",
       "mean        6578.996                            8.403   \n",
       "std        13446.826                            5.207   \n",
       "min            0.000                            0.000   \n",
       "25%         3333.000                            5.000   \n",
       "50%         5250.000                            8.000   \n",
       "75%         8055.750                           11.000   \n",
       "max      1794060.000                           56.000   \n",
       "\n",
       "       NumberOfTimes90DaysLate  NumberRealEstateLoansOrLines  \\\n",
       "count                 41016.00                     41016.000   \n",
       "mean                      0.42                         1.009   \n",
       "std                       5.19                         1.154   \n",
       "min                       0.00                         0.000   \n",
       "25%                       0.00                         0.000   \n",
       "50%                       0.00                         1.000   \n",
       "75%                       0.00                         2.000   \n",
       "max                      98.00                        32.000   \n",
       "\n",
       "       NumberOfTime60-89DaysPastDueNotWorse  NumberOfDependents  \n",
       "count                             41016.000           39979.000  \n",
       "mean                                  0.372               0.773  \n",
       "std                                   5.170               1.121  \n",
       "min                                   0.000               0.000  \n",
       "25%                                   0.000               0.000  \n",
       "50%                                   0.000               0.000  \n",
       "75%                                   0.000               1.000  \n",
       "max                                  98.000              13.000  "
      ]
     },
     "execution_count": 4,
     "metadata": {},
     "output_type": "execute_result"
    }
   ],
   "source": [
    "# explore statistics of all columns\n",
    "credit_df.describe().round(3)"
   ]
  },
  {
   "cell_type": "code",
   "execution_count": 5,
   "metadata": {},
   "outputs": [
    {
     "data": {
      "text/plain": [
       "{'DebtRatio': 5,\n",
       " 'MonthlyIncome': 6,\n",
       " 'NumberOfDependents': 11,\n",
       " 'NumberOfOpenCreditLinesAndLoans': 7,\n",
       " 'NumberOfTime30-59DaysPastDueNotWorse': 4,\n",
       " 'NumberOfTime60-89DaysPastDueNotWorse': 10,\n",
       " 'NumberOfTimes90DaysLate': 8,\n",
       " 'NumberRealEstateLoansOrLines': 9,\n",
       " 'RevolvingUtilizationOfUnsecuredLines': 1,\n",
       " 'SeriousDlqin2yrs': 0,\n",
       " 'age': 2,\n",
       " 'zipcode': 3}"
      ]
     },
     "execution_count": 5,
     "metadata": {},
     "output_type": "execute_result"
    }
   ],
   "source": [
    "# create quick reference for accessing columns\n",
    "col_ref = ml.create_col_ref(credit_df)\n",
    "col_ref"
   ]
  },
  {
   "cell_type": "code",
   "execution_count": 6,
   "metadata": {},
   "outputs": [
    {
     "data": {
      "text/plain": [
       "SeriousDlqin2yrs                          int64\n",
       "RevolvingUtilizationOfUnsecuredLines    float64\n",
       "age                                       int64\n",
       "zipcode                                   int64\n",
       "NumberOfTime30-59DaysPastDueNotWorse      int64\n",
       "DebtRatio                               float64\n",
       "MonthlyIncome                           float64\n",
       "NumberOfOpenCreditLinesAndLoans           int64\n",
       "NumberOfTimes90DaysLate                   int64\n",
       "NumberRealEstateLoansOrLines              int64\n",
       "NumberOfTime60-89DaysPastDueNotWorse      int64\n",
       "NumberOfDependents                      float64\n",
       "dtype: object"
      ]
     },
     "execution_count": 6,
     "metadata": {},
     "output_type": "execute_result"
    }
   ],
   "source": [
    "# check column types\n",
    "credit_df.dtypes"
   ]
  },
  {
   "cell_type": "markdown",
   "metadata": {},
   "source": [
    "#### Identify Outliers"
   ]
  },
  {
   "cell_type": "code",
   "execution_count": 7,
   "metadata": {
    "collapsed": true
   },
   "outputs": [],
   "source": [
    "  def remove_dramatic_outliers(df, outliers_df, max_min_df, col, threshold):\n",
    "    outlier_values = list(max_min_df.loc[outliers_df[outliers_df[col] > threshold][col].index, col])\n",
    "    df[~df[col].isin(outlier_values)]"
   ]
  },
  {
   "cell_type": "code",
   "execution_count": 8,
   "metadata": {},
   "outputs": [
    {
     "data": {
      "text/html": [
       "<div>\n",
       "<style>\n",
       "    .dataframe thead tr:only-child th {\n",
       "        text-align: right;\n",
       "    }\n",
       "\n",
       "    .dataframe thead th {\n",
       "        text-align: left;\n",
       "    }\n",
       "\n",
       "    .dataframe tbody tr th {\n",
       "        vertical-align: top;\n",
       "    }\n",
       "</style>\n",
       "<table border=\"1\" class=\"dataframe\">\n",
       "  <thead>\n",
       "    <tr style=\"text-align: right;\">\n",
       "      <th></th>\n",
       "      <th>SeriousDlqin2yrs</th>\n",
       "      <th>RevolvingUtilizationOfUnsecuredLines</th>\n",
       "      <th>age</th>\n",
       "      <th>zipcode</th>\n",
       "      <th>NumberOfTime30-59DaysPastDueNotWorse</th>\n",
       "      <th>DebtRatio</th>\n",
       "      <th>MonthlyIncome</th>\n",
       "      <th>NumberOfOpenCreditLinesAndLoans</th>\n",
       "      <th>NumberOfTimes90DaysLate</th>\n",
       "      <th>NumberRealEstateLoansOrLines</th>\n",
       "      <th>NumberOfTime60-89DaysPastDueNotWorse</th>\n",
       "      <th>NumberOfDependents</th>\n",
       "    </tr>\n",
       "  </thead>\n",
       "  <tbody>\n",
       "    <tr>\n",
       "      <th>0.996</th>\n",
       "      <td>1.0</td>\n",
       "      <td>1.820415</td>\n",
       "      <td>90.0</td>\n",
       "      <td>60644.0</td>\n",
       "      <td>6.0</td>\n",
       "      <td>6530.920</td>\n",
       "      <td>39993.260</td>\n",
       "      <td>28.0</td>\n",
       "      <td>7.000</td>\n",
       "      <td>6.0</td>\n",
       "      <td>4.0</td>\n",
       "      <td>5.0</td>\n",
       "    </tr>\n",
       "    <tr>\n",
       "      <th>0.997</th>\n",
       "      <td>1.0</td>\n",
       "      <td>2.054715</td>\n",
       "      <td>91.0</td>\n",
       "      <td>60644.0</td>\n",
       "      <td>9.0</td>\n",
       "      <td>7480.875</td>\n",
       "      <td>45000.000</td>\n",
       "      <td>30.0</td>\n",
       "      <td>10.955</td>\n",
       "      <td>7.0</td>\n",
       "      <td>6.0</td>\n",
       "      <td>5.0</td>\n",
       "    </tr>\n",
       "    <tr>\n",
       "      <th>0.998</th>\n",
       "      <td>1.0</td>\n",
       "      <td>3.601156</td>\n",
       "      <td>92.0</td>\n",
       "      <td>60644.0</td>\n",
       "      <td>98.0</td>\n",
       "      <td>8896.110</td>\n",
       "      <td>58305.694</td>\n",
       "      <td>32.0</td>\n",
       "      <td>98.000</td>\n",
       "      <td>8.0</td>\n",
       "      <td>98.0</td>\n",
       "      <td>5.0</td>\n",
       "    </tr>\n",
       "    <tr>\n",
       "      <th>0.999</th>\n",
       "      <td>1.0</td>\n",
       "      <td>1760.280000</td>\n",
       "      <td>94.0</td>\n",
       "      <td>60644.0</td>\n",
       "      <td>98.0</td>\n",
       "      <td>11373.160</td>\n",
       "      <td>81840.551</td>\n",
       "      <td>35.0</td>\n",
       "      <td>98.000</td>\n",
       "      <td>10.0</td>\n",
       "      <td>98.0</td>\n",
       "      <td>6.0</td>\n",
       "    </tr>\n",
       "    <tr>\n",
       "      <th>1.000</th>\n",
       "      <td>1.0</td>\n",
       "      <td>22000.000000</td>\n",
       "      <td>109.0</td>\n",
       "      <td>60644.0</td>\n",
       "      <td>98.0</td>\n",
       "      <td>106885.000</td>\n",
       "      <td>1794060.000</td>\n",
       "      <td>56.0</td>\n",
       "      <td>98.000</td>\n",
       "      <td>32.0</td>\n",
       "      <td>98.0</td>\n",
       "      <td>13.0</td>\n",
       "    </tr>\n",
       "  </tbody>\n",
       "</table>\n",
       "</div>"
      ],
      "text/plain": [
       "       SeriousDlqin2yrs  RevolvingUtilizationOfUnsecuredLines    age  zipcode  \\\n",
       "0.996               1.0                              1.820415   90.0  60644.0   \n",
       "0.997               1.0                              2.054715   91.0  60644.0   \n",
       "0.998               1.0                              3.601156   92.0  60644.0   \n",
       "0.999               1.0                           1760.280000   94.0  60644.0   \n",
       "1.000               1.0                          22000.000000  109.0  60644.0   \n",
       "\n",
       "       NumberOfTime30-59DaysPastDueNotWorse   DebtRatio  MonthlyIncome  \\\n",
       "0.996                                   6.0    6530.920      39993.260   \n",
       "0.997                                   9.0    7480.875      45000.000   \n",
       "0.998                                  98.0    8896.110      58305.694   \n",
       "0.999                                  98.0   11373.160      81840.551   \n",
       "1.000                                  98.0  106885.000    1794060.000   \n",
       "\n",
       "       NumberOfOpenCreditLinesAndLoans  NumberOfTimes90DaysLate  \\\n",
       "0.996                             28.0                    7.000   \n",
       "0.997                             30.0                   10.955   \n",
       "0.998                             32.0                   98.000   \n",
       "0.999                             35.0                   98.000   \n",
       "1.000                             56.0                   98.000   \n",
       "\n",
       "       NumberRealEstateLoansOrLines  NumberOfTime60-89DaysPastDueNotWorse  \\\n",
       "0.996                           6.0                                   4.0   \n",
       "0.997                           7.0                                   6.0   \n",
       "0.998                           8.0                                  98.0   \n",
       "0.999                          10.0                                  98.0   \n",
       "1.000                          32.0                                  98.0   \n",
       "\n",
       "       NumberOfDependents  \n",
       "0.996                 5.0  \n",
       "0.997                 5.0  \n",
       "0.998                 5.0  \n",
       "0.999                 6.0  \n",
       "1.000                13.0  "
      ]
     },
     "execution_count": 8,
     "metadata": {},
     "output_type": "execute_result"
    }
   ],
   "source": [
    "maxes = ml.view_max_mins(credit_df, max = True)\n",
    "maxes.tail()"
   ]
  },
  {
   "cell_type": "code",
   "execution_count": 9,
   "metadata": {},
   "outputs": [
    {
     "data": {
      "text/html": [
       "<div>\n",
       "<style>\n",
       "    .dataframe thead tr:only-child th {\n",
       "        text-align: right;\n",
       "    }\n",
       "\n",
       "    .dataframe thead th {\n",
       "        text-align: left;\n",
       "    }\n",
       "\n",
       "    .dataframe tbody tr th {\n",
       "        vertical-align: top;\n",
       "    }\n",
       "</style>\n",
       "<table border=\"1\" class=\"dataframe\">\n",
       "  <thead>\n",
       "    <tr style=\"text-align: right;\">\n",
       "      <th></th>\n",
       "      <th>SeriousDlqin2yrs</th>\n",
       "      <th>RevolvingUtilizationOfUnsecuredLines</th>\n",
       "      <th>age</th>\n",
       "      <th>zipcode</th>\n",
       "      <th>NumberOfTime30-59DaysPastDueNotWorse</th>\n",
       "      <th>DebtRatio</th>\n",
       "      <th>MonthlyIncome</th>\n",
       "      <th>NumberOfOpenCreditLinesAndLoans</th>\n",
       "      <th>NumberOfTimes90DaysLate</th>\n",
       "      <th>NumberRealEstateLoansOrLines</th>\n",
       "      <th>NumberOfTime60-89DaysPastDueNotWorse</th>\n",
       "      <th>NumberOfDependents</th>\n",
       "    </tr>\n",
       "  </thead>\n",
       "  <tbody>\n",
       "    <tr>\n",
       "      <th>0.996</th>\n",
       "      <td>0.0</td>\n",
       "      <td>0.121875</td>\n",
       "      <td>0.011236</td>\n",
       "      <td>0.0</td>\n",
       "      <td>0.000000</td>\n",
       "      <td>0.075482</td>\n",
       "      <td>0.199810</td>\n",
       "      <td>0.037037</td>\n",
       "      <td>0.166667</td>\n",
       "      <td>0.000000</td>\n",
       "      <td>0.333333</td>\n",
       "      <td>0.000000</td>\n",
       "    </tr>\n",
       "    <tr>\n",
       "      <th>0.997</th>\n",
       "      <td>0.0</td>\n",
       "      <td>0.128707</td>\n",
       "      <td>0.011111</td>\n",
       "      <td>0.0</td>\n",
       "      <td>0.500000</td>\n",
       "      <td>0.145455</td>\n",
       "      <td>0.125190</td>\n",
       "      <td>0.071429</td>\n",
       "      <td>0.565000</td>\n",
       "      <td>0.166667</td>\n",
       "      <td>0.500000</td>\n",
       "      <td>0.000000</td>\n",
       "    </tr>\n",
       "    <tr>\n",
       "      <th>0.998</th>\n",
       "      <td>0.0</td>\n",
       "      <td>0.752630</td>\n",
       "      <td>0.010989</td>\n",
       "      <td>0.0</td>\n",
       "      <td>9.888889</td>\n",
       "      <td>0.189180</td>\n",
       "      <td>0.295682</td>\n",
       "      <td>0.066667</td>\n",
       "      <td>7.945687</td>\n",
       "      <td>0.142857</td>\n",
       "      <td>15.333333</td>\n",
       "      <td>0.000000</td>\n",
       "    </tr>\n",
       "    <tr>\n",
       "      <th>0.999</th>\n",
       "      <td>0.0</td>\n",
       "      <td>487.809672</td>\n",
       "      <td>0.021739</td>\n",
       "      <td>0.0</td>\n",
       "      <td>0.000000</td>\n",
       "      <td>0.278442</td>\n",
       "      <td>0.403646</td>\n",
       "      <td>0.093750</td>\n",
       "      <td>0.000000</td>\n",
       "      <td>0.250000</td>\n",
       "      <td>0.000000</td>\n",
       "      <td>0.200000</td>\n",
       "    </tr>\n",
       "    <tr>\n",
       "      <th>1.000</th>\n",
       "      <td>0.0</td>\n",
       "      <td>11.498012</td>\n",
       "      <td>0.159574</td>\n",
       "      <td>0.0</td>\n",
       "      <td>0.000000</td>\n",
       "      <td>8.398004</td>\n",
       "      <td>20.921407</td>\n",
       "      <td>0.600000</td>\n",
       "      <td>0.000000</td>\n",
       "      <td>2.200000</td>\n",
       "      <td>0.000000</td>\n",
       "      <td>1.166667</td>\n",
       "    </tr>\n",
       "  </tbody>\n",
       "</table>\n",
       "</div>"
      ],
      "text/plain": [
       "       SeriousDlqin2yrs  RevolvingUtilizationOfUnsecuredLines       age  \\\n",
       "0.996               0.0                              0.121875  0.011236   \n",
       "0.997               0.0                              0.128707  0.011111   \n",
       "0.998               0.0                              0.752630  0.010989   \n",
       "0.999               0.0                            487.809672  0.021739   \n",
       "1.000               0.0                             11.498012  0.159574   \n",
       "\n",
       "       zipcode  NumberOfTime30-59DaysPastDueNotWorse  DebtRatio  \\\n",
       "0.996      0.0                              0.000000   0.075482   \n",
       "0.997      0.0                              0.500000   0.145455   \n",
       "0.998      0.0                              9.888889   0.189180   \n",
       "0.999      0.0                              0.000000   0.278442   \n",
       "1.000      0.0                              0.000000   8.398004   \n",
       "\n",
       "       MonthlyIncome  NumberOfOpenCreditLinesAndLoans  \\\n",
       "0.996       0.199810                         0.037037   \n",
       "0.997       0.125190                         0.071429   \n",
       "0.998       0.295682                         0.066667   \n",
       "0.999       0.403646                         0.093750   \n",
       "1.000      20.921407                         0.600000   \n",
       "\n",
       "       NumberOfTimes90DaysLate  NumberRealEstateLoansOrLines  \\\n",
       "0.996                 0.166667                      0.000000   \n",
       "0.997                 0.565000                      0.166667   \n",
       "0.998                 7.945687                      0.142857   \n",
       "0.999                 0.000000                      0.250000   \n",
       "1.000                 0.000000                      2.200000   \n",
       "\n",
       "       NumberOfTime60-89DaysPastDueNotWorse  NumberOfDependents  \n",
       "0.996                              0.333333            0.000000  \n",
       "0.997                              0.500000            0.000000  \n",
       "0.998                             15.333333            0.000000  \n",
       "0.999                              0.000000            0.200000  \n",
       "1.000                              0.000000            1.166667  "
      ]
     },
     "execution_count": 9,
     "metadata": {},
     "output_type": "execute_result"
    }
   ],
   "source": [
    "likely_outliers_upper = ml.view_likely_outliers(credit_df)\n",
    "likely_outliers_upper.tail()"
   ]
  },
  {
   "cell_type": "code",
   "execution_count": 10,
   "metadata": {},
   "outputs": [
    {
     "data": {
      "text/html": [
       "<div>\n",
       "<style>\n",
       "    .dataframe thead tr:only-child th {\n",
       "        text-align: right;\n",
       "    }\n",
       "\n",
       "    .dataframe thead th {\n",
       "        text-align: left;\n",
       "    }\n",
       "\n",
       "    .dataframe tbody tr th {\n",
       "        vertical-align: top;\n",
       "    }\n",
       "</style>\n",
       "<table border=\"1\" class=\"dataframe\">\n",
       "  <thead>\n",
       "    <tr style=\"text-align: right;\">\n",
       "      <th></th>\n",
       "      <th>SeriousDlqin2yrs</th>\n",
       "      <th>RevolvingUtilizationOfUnsecuredLines</th>\n",
       "      <th>age</th>\n",
       "      <th>zipcode</th>\n",
       "      <th>NumberOfTime30-59DaysPastDueNotWorse</th>\n",
       "      <th>DebtRatio</th>\n",
       "      <th>MonthlyIncome</th>\n",
       "      <th>NumberOfOpenCreditLinesAndLoans</th>\n",
       "      <th>NumberOfTimes90DaysLate</th>\n",
       "      <th>NumberRealEstateLoansOrLines</th>\n",
       "      <th>NumberOfTime60-89DaysPastDueNotWorse</th>\n",
       "      <th>NumberOfDependents</th>\n",
       "    </tr>\n",
       "  </thead>\n",
       "  <tbody>\n",
       "    <tr>\n",
       "      <th>0.000</th>\n",
       "      <td>0.0</td>\n",
       "      <td>0.0</td>\n",
       "      <td>21.0</td>\n",
       "      <td>60601.0</td>\n",
       "      <td>0.0</td>\n",
       "      <td>0.0</td>\n",
       "      <td>0.0</td>\n",
       "      <td>0.0</td>\n",
       "      <td>0.0</td>\n",
       "      <td>0.0</td>\n",
       "      <td>0.0</td>\n",
       "      <td>0.0</td>\n",
       "    </tr>\n",
       "    <tr>\n",
       "      <th>0.001</th>\n",
       "      <td>0.0</td>\n",
       "      <td>0.0</td>\n",
       "      <td>21.0</td>\n",
       "      <td>60601.0</td>\n",
       "      <td>0.0</td>\n",
       "      <td>0.0</td>\n",
       "      <td>0.0</td>\n",
       "      <td>0.0</td>\n",
       "      <td>0.0</td>\n",
       "      <td>0.0</td>\n",
       "      <td>0.0</td>\n",
       "      <td>0.0</td>\n",
       "    </tr>\n",
       "    <tr>\n",
       "      <th>0.002</th>\n",
       "      <td>0.0</td>\n",
       "      <td>0.0</td>\n",
       "      <td>22.0</td>\n",
       "      <td>60601.0</td>\n",
       "      <td>0.0</td>\n",
       "      <td>0.0</td>\n",
       "      <td>0.0</td>\n",
       "      <td>0.0</td>\n",
       "      <td>0.0</td>\n",
       "      <td>0.0</td>\n",
       "      <td>0.0</td>\n",
       "      <td>0.0</td>\n",
       "    </tr>\n",
       "    <tr>\n",
       "      <th>0.003</th>\n",
       "      <td>0.0</td>\n",
       "      <td>0.0</td>\n",
       "      <td>22.0</td>\n",
       "      <td>60601.0</td>\n",
       "      <td>0.0</td>\n",
       "      <td>0.0</td>\n",
       "      <td>0.0</td>\n",
       "      <td>0.0</td>\n",
       "      <td>0.0</td>\n",
       "      <td>0.0</td>\n",
       "      <td>0.0</td>\n",
       "      <td>0.0</td>\n",
       "    </tr>\n",
       "    <tr>\n",
       "      <th>0.004</th>\n",
       "      <td>0.0</td>\n",
       "      <td>0.0</td>\n",
       "      <td>23.0</td>\n",
       "      <td>60601.0</td>\n",
       "      <td>0.0</td>\n",
       "      <td>0.0</td>\n",
       "      <td>0.0</td>\n",
       "      <td>0.0</td>\n",
       "      <td>0.0</td>\n",
       "      <td>0.0</td>\n",
       "      <td>0.0</td>\n",
       "      <td>0.0</td>\n",
       "    </tr>\n",
       "    <tr>\n",
       "      <th>0.005</th>\n",
       "      <td>0.0</td>\n",
       "      <td>0.0</td>\n",
       "      <td>23.0</td>\n",
       "      <td>60601.0</td>\n",
       "      <td>0.0</td>\n",
       "      <td>0.0</td>\n",
       "      <td>0.0</td>\n",
       "      <td>0.0</td>\n",
       "      <td>0.0</td>\n",
       "      <td>0.0</td>\n",
       "      <td>0.0</td>\n",
       "      <td>0.0</td>\n",
       "    </tr>\n",
       "    <tr>\n",
       "      <th>0.006</th>\n",
       "      <td>0.0</td>\n",
       "      <td>0.0</td>\n",
       "      <td>23.0</td>\n",
       "      <td>60601.0</td>\n",
       "      <td>0.0</td>\n",
       "      <td>0.0</td>\n",
       "      <td>0.0</td>\n",
       "      <td>0.0</td>\n",
       "      <td>0.0</td>\n",
       "      <td>0.0</td>\n",
       "      <td>0.0</td>\n",
       "      <td>0.0</td>\n",
       "    </tr>\n",
       "    <tr>\n",
       "      <th>0.007</th>\n",
       "      <td>0.0</td>\n",
       "      <td>0.0</td>\n",
       "      <td>23.0</td>\n",
       "      <td>60601.0</td>\n",
       "      <td>0.0</td>\n",
       "      <td>0.0</td>\n",
       "      <td>0.0</td>\n",
       "      <td>0.0</td>\n",
       "      <td>0.0</td>\n",
       "      <td>0.0</td>\n",
       "      <td>0.0</td>\n",
       "      <td>0.0</td>\n",
       "    </tr>\n",
       "    <tr>\n",
       "      <th>0.008</th>\n",
       "      <td>0.0</td>\n",
       "      <td>0.0</td>\n",
       "      <td>23.0</td>\n",
       "      <td>60601.0</td>\n",
       "      <td>0.0</td>\n",
       "      <td>0.0</td>\n",
       "      <td>0.0</td>\n",
       "      <td>0.0</td>\n",
       "      <td>0.0</td>\n",
       "      <td>0.0</td>\n",
       "      <td>0.0</td>\n",
       "      <td>0.0</td>\n",
       "    </tr>\n",
       "    <tr>\n",
       "      <th>0.009</th>\n",
       "      <td>0.0</td>\n",
       "      <td>0.0</td>\n",
       "      <td>24.0</td>\n",
       "      <td>60601.0</td>\n",
       "      <td>0.0</td>\n",
       "      <td>0.0</td>\n",
       "      <td>0.0</td>\n",
       "      <td>0.0</td>\n",
       "      <td>0.0</td>\n",
       "      <td>0.0</td>\n",
       "      <td>0.0</td>\n",
       "      <td>0.0</td>\n",
       "    </tr>\n",
       "    <tr>\n",
       "      <th>0.010</th>\n",
       "      <td>0.0</td>\n",
       "      <td>0.0</td>\n",
       "      <td>24.0</td>\n",
       "      <td>60601.0</td>\n",
       "      <td>0.0</td>\n",
       "      <td>0.0</td>\n",
       "      <td>0.0</td>\n",
       "      <td>0.0</td>\n",
       "      <td>0.0</td>\n",
       "      <td>0.0</td>\n",
       "      <td>0.0</td>\n",
       "      <td>0.0</td>\n",
       "    </tr>\n",
       "  </tbody>\n",
       "</table>\n",
       "</div>"
      ],
      "text/plain": [
       "       SeriousDlqin2yrs  RevolvingUtilizationOfUnsecuredLines   age  zipcode  \\\n",
       "0.000               0.0                                   0.0  21.0  60601.0   \n",
       "0.001               0.0                                   0.0  21.0  60601.0   \n",
       "0.002               0.0                                   0.0  22.0  60601.0   \n",
       "0.003               0.0                                   0.0  22.0  60601.0   \n",
       "0.004               0.0                                   0.0  23.0  60601.0   \n",
       "0.005               0.0                                   0.0  23.0  60601.0   \n",
       "0.006               0.0                                   0.0  23.0  60601.0   \n",
       "0.007               0.0                                   0.0  23.0  60601.0   \n",
       "0.008               0.0                                   0.0  23.0  60601.0   \n",
       "0.009               0.0                                   0.0  24.0  60601.0   \n",
       "0.010               0.0                                   0.0  24.0  60601.0   \n",
       "\n",
       "       NumberOfTime30-59DaysPastDueNotWorse  DebtRatio  MonthlyIncome  \\\n",
       "0.000                                   0.0        0.0            0.0   \n",
       "0.001                                   0.0        0.0            0.0   \n",
       "0.002                                   0.0        0.0            0.0   \n",
       "0.003                                   0.0        0.0            0.0   \n",
       "0.004                                   0.0        0.0            0.0   \n",
       "0.005                                   0.0        0.0            0.0   \n",
       "0.006                                   0.0        0.0            0.0   \n",
       "0.007                                   0.0        0.0            0.0   \n",
       "0.008                                   0.0        0.0            0.0   \n",
       "0.009                                   0.0        0.0            0.0   \n",
       "0.010                                   0.0        0.0            0.0   \n",
       "\n",
       "       NumberOfOpenCreditLinesAndLoans  NumberOfTimes90DaysLate  \\\n",
       "0.000                              0.0                      0.0   \n",
       "0.001                              0.0                      0.0   \n",
       "0.002                              0.0                      0.0   \n",
       "0.003                              0.0                      0.0   \n",
       "0.004                              0.0                      0.0   \n",
       "0.005                              0.0                      0.0   \n",
       "0.006                              0.0                      0.0   \n",
       "0.007                              0.0                      0.0   \n",
       "0.008                              0.0                      0.0   \n",
       "0.009                              0.0                      0.0   \n",
       "0.010                              0.0                      0.0   \n",
       "\n",
       "       NumberRealEstateLoansOrLines  NumberOfTime60-89DaysPastDueNotWorse  \\\n",
       "0.000                           0.0                                   0.0   \n",
       "0.001                           0.0                                   0.0   \n",
       "0.002                           0.0                                   0.0   \n",
       "0.003                           0.0                                   0.0   \n",
       "0.004                           0.0                                   0.0   \n",
       "0.005                           0.0                                   0.0   \n",
       "0.006                           0.0                                   0.0   \n",
       "0.007                           0.0                                   0.0   \n",
       "0.008                           0.0                                   0.0   \n",
       "0.009                           0.0                                   0.0   \n",
       "0.010                           0.0                                   0.0   \n",
       "\n",
       "       NumberOfDependents  \n",
       "0.000                 0.0  \n",
       "0.001                 0.0  \n",
       "0.002                 0.0  \n",
       "0.003                 0.0  \n",
       "0.004                 0.0  \n",
       "0.005                 0.0  \n",
       "0.006                 0.0  \n",
       "0.007                 0.0  \n",
       "0.008                 0.0  \n",
       "0.009                 0.0  \n",
       "0.010                 0.0  "
      ]
     },
     "execution_count": 10,
     "metadata": {},
     "output_type": "execute_result"
    }
   ],
   "source": [
    "mins = ml.view_max_mins(credit_df, max = False)\n",
    "mins"
   ]
  },
  {
   "cell_type": "code",
   "execution_count": 11,
   "metadata": {},
   "outputs": [
    {
     "data": {
      "text/html": [
       "<div>\n",
       "<style>\n",
       "    .dataframe thead tr:only-child th {\n",
       "        text-align: right;\n",
       "    }\n",
       "\n",
       "    .dataframe thead th {\n",
       "        text-align: left;\n",
       "    }\n",
       "\n",
       "    .dataframe tbody tr th {\n",
       "        vertical-align: top;\n",
       "    }\n",
       "</style>\n",
       "<table border=\"1\" class=\"dataframe\">\n",
       "  <thead>\n",
       "    <tr style=\"text-align: right;\">\n",
       "      <th></th>\n",
       "      <th>SeriousDlqin2yrs</th>\n",
       "      <th>RevolvingUtilizationOfUnsecuredLines</th>\n",
       "      <th>age</th>\n",
       "      <th>zipcode</th>\n",
       "      <th>NumberOfTime30-59DaysPastDueNotWorse</th>\n",
       "      <th>DebtRatio</th>\n",
       "      <th>MonthlyIncome</th>\n",
       "      <th>NumberOfOpenCreditLinesAndLoans</th>\n",
       "      <th>NumberOfTimes90DaysLate</th>\n",
       "      <th>NumberRealEstateLoansOrLines</th>\n",
       "      <th>NumberOfTime60-89DaysPastDueNotWorse</th>\n",
       "      <th>NumberOfDependents</th>\n",
       "    </tr>\n",
       "  </thead>\n",
       "  <tbody>\n",
       "    <tr>\n",
       "      <th>0.000</th>\n",
       "      <td>NaN</td>\n",
       "      <td>NaN</td>\n",
       "      <td>NaN</td>\n",
       "      <td>NaN</td>\n",
       "      <td>NaN</td>\n",
       "      <td>NaN</td>\n",
       "      <td>NaN</td>\n",
       "      <td>NaN</td>\n",
       "      <td>NaN</td>\n",
       "      <td>NaN</td>\n",
       "      <td>NaN</td>\n",
       "      <td>NaN</td>\n",
       "    </tr>\n",
       "    <tr>\n",
       "      <th>0.001</th>\n",
       "      <td>NaN</td>\n",
       "      <td>NaN</td>\n",
       "      <td>0.000000</td>\n",
       "      <td>0.0</td>\n",
       "      <td>NaN</td>\n",
       "      <td>NaN</td>\n",
       "      <td>NaN</td>\n",
       "      <td>NaN</td>\n",
       "      <td>NaN</td>\n",
       "      <td>NaN</td>\n",
       "      <td>NaN</td>\n",
       "      <td>NaN</td>\n",
       "    </tr>\n",
       "    <tr>\n",
       "      <th>0.002</th>\n",
       "      <td>NaN</td>\n",
       "      <td>NaN</td>\n",
       "      <td>0.047619</td>\n",
       "      <td>0.0</td>\n",
       "      <td>NaN</td>\n",
       "      <td>NaN</td>\n",
       "      <td>NaN</td>\n",
       "      <td>NaN</td>\n",
       "      <td>NaN</td>\n",
       "      <td>NaN</td>\n",
       "      <td>NaN</td>\n",
       "      <td>NaN</td>\n",
       "    </tr>\n",
       "    <tr>\n",
       "      <th>0.003</th>\n",
       "      <td>NaN</td>\n",
       "      <td>NaN</td>\n",
       "      <td>0.000000</td>\n",
       "      <td>0.0</td>\n",
       "      <td>NaN</td>\n",
       "      <td>NaN</td>\n",
       "      <td>NaN</td>\n",
       "      <td>NaN</td>\n",
       "      <td>NaN</td>\n",
       "      <td>NaN</td>\n",
       "      <td>NaN</td>\n",
       "      <td>NaN</td>\n",
       "    </tr>\n",
       "    <tr>\n",
       "      <th>0.004</th>\n",
       "      <td>NaN</td>\n",
       "      <td>NaN</td>\n",
       "      <td>0.045455</td>\n",
       "      <td>0.0</td>\n",
       "      <td>NaN</td>\n",
       "      <td>NaN</td>\n",
       "      <td>NaN</td>\n",
       "      <td>NaN</td>\n",
       "      <td>NaN</td>\n",
       "      <td>NaN</td>\n",
       "      <td>NaN</td>\n",
       "      <td>NaN</td>\n",
       "    </tr>\n",
       "    <tr>\n",
       "      <th>0.005</th>\n",
       "      <td>NaN</td>\n",
       "      <td>NaN</td>\n",
       "      <td>0.000000</td>\n",
       "      <td>0.0</td>\n",
       "      <td>NaN</td>\n",
       "      <td>NaN</td>\n",
       "      <td>NaN</td>\n",
       "      <td>NaN</td>\n",
       "      <td>NaN</td>\n",
       "      <td>NaN</td>\n",
       "      <td>NaN</td>\n",
       "      <td>NaN</td>\n",
       "    </tr>\n",
       "    <tr>\n",
       "      <th>0.006</th>\n",
       "      <td>NaN</td>\n",
       "      <td>NaN</td>\n",
       "      <td>0.000000</td>\n",
       "      <td>0.0</td>\n",
       "      <td>NaN</td>\n",
       "      <td>NaN</td>\n",
       "      <td>NaN</td>\n",
       "      <td>NaN</td>\n",
       "      <td>NaN</td>\n",
       "      <td>NaN</td>\n",
       "      <td>NaN</td>\n",
       "      <td>NaN</td>\n",
       "    </tr>\n",
       "    <tr>\n",
       "      <th>0.007</th>\n",
       "      <td>NaN</td>\n",
       "      <td>NaN</td>\n",
       "      <td>0.000000</td>\n",
       "      <td>0.0</td>\n",
       "      <td>NaN</td>\n",
       "      <td>NaN</td>\n",
       "      <td>NaN</td>\n",
       "      <td>NaN</td>\n",
       "      <td>NaN</td>\n",
       "      <td>NaN</td>\n",
       "      <td>NaN</td>\n",
       "      <td>NaN</td>\n",
       "    </tr>\n",
       "    <tr>\n",
       "      <th>0.008</th>\n",
       "      <td>NaN</td>\n",
       "      <td>NaN</td>\n",
       "      <td>0.000000</td>\n",
       "      <td>0.0</td>\n",
       "      <td>NaN</td>\n",
       "      <td>NaN</td>\n",
       "      <td>NaN</td>\n",
       "      <td>NaN</td>\n",
       "      <td>NaN</td>\n",
       "      <td>NaN</td>\n",
       "      <td>NaN</td>\n",
       "      <td>NaN</td>\n",
       "    </tr>\n",
       "    <tr>\n",
       "      <th>0.009</th>\n",
       "      <td>NaN</td>\n",
       "      <td>NaN</td>\n",
       "      <td>0.043478</td>\n",
       "      <td>0.0</td>\n",
       "      <td>NaN</td>\n",
       "      <td>NaN</td>\n",
       "      <td>NaN</td>\n",
       "      <td>NaN</td>\n",
       "      <td>NaN</td>\n",
       "      <td>NaN</td>\n",
       "      <td>NaN</td>\n",
       "      <td>NaN</td>\n",
       "    </tr>\n",
       "    <tr>\n",
       "      <th>0.010</th>\n",
       "      <td>NaN</td>\n",
       "      <td>NaN</td>\n",
       "      <td>0.000000</td>\n",
       "      <td>0.0</td>\n",
       "      <td>NaN</td>\n",
       "      <td>NaN</td>\n",
       "      <td>NaN</td>\n",
       "      <td>NaN</td>\n",
       "      <td>NaN</td>\n",
       "      <td>NaN</td>\n",
       "      <td>NaN</td>\n",
       "      <td>NaN</td>\n",
       "    </tr>\n",
       "  </tbody>\n",
       "</table>\n",
       "</div>"
      ],
      "text/plain": [
       "       SeriousDlqin2yrs  RevolvingUtilizationOfUnsecuredLines       age  \\\n",
       "0.000               NaN                                   NaN       NaN   \n",
       "0.001               NaN                                   NaN  0.000000   \n",
       "0.002               NaN                                   NaN  0.047619   \n",
       "0.003               NaN                                   NaN  0.000000   \n",
       "0.004               NaN                                   NaN  0.045455   \n",
       "0.005               NaN                                   NaN  0.000000   \n",
       "0.006               NaN                                   NaN  0.000000   \n",
       "0.007               NaN                                   NaN  0.000000   \n",
       "0.008               NaN                                   NaN  0.000000   \n",
       "0.009               NaN                                   NaN  0.043478   \n",
       "0.010               NaN                                   NaN  0.000000   \n",
       "\n",
       "       zipcode  NumberOfTime30-59DaysPastDueNotWorse  DebtRatio  \\\n",
       "0.000      NaN                                   NaN        NaN   \n",
       "0.001      0.0                                   NaN        NaN   \n",
       "0.002      0.0                                   NaN        NaN   \n",
       "0.003      0.0                                   NaN        NaN   \n",
       "0.004      0.0                                   NaN        NaN   \n",
       "0.005      0.0                                   NaN        NaN   \n",
       "0.006      0.0                                   NaN        NaN   \n",
       "0.007      0.0                                   NaN        NaN   \n",
       "0.008      0.0                                   NaN        NaN   \n",
       "0.009      0.0                                   NaN        NaN   \n",
       "0.010      0.0                                   NaN        NaN   \n",
       "\n",
       "       MonthlyIncome  NumberOfOpenCreditLinesAndLoans  \\\n",
       "0.000            NaN                              NaN   \n",
       "0.001            NaN                              NaN   \n",
       "0.002            NaN                              NaN   \n",
       "0.003            NaN                              NaN   \n",
       "0.004            NaN                              NaN   \n",
       "0.005            NaN                              NaN   \n",
       "0.006            NaN                              NaN   \n",
       "0.007            NaN                              NaN   \n",
       "0.008            NaN                              NaN   \n",
       "0.009            NaN                              NaN   \n",
       "0.010            NaN                              NaN   \n",
       "\n",
       "       NumberOfTimes90DaysLate  NumberRealEstateLoansOrLines  \\\n",
       "0.000                      NaN                           NaN   \n",
       "0.001                      NaN                           NaN   \n",
       "0.002                      NaN                           NaN   \n",
       "0.003                      NaN                           NaN   \n",
       "0.004                      NaN                           NaN   \n",
       "0.005                      NaN                           NaN   \n",
       "0.006                      NaN                           NaN   \n",
       "0.007                      NaN                           NaN   \n",
       "0.008                      NaN                           NaN   \n",
       "0.009                      NaN                           NaN   \n",
       "0.010                      NaN                           NaN   \n",
       "\n",
       "       NumberOfTime60-89DaysPastDueNotWorse  NumberOfDependents  \n",
       "0.000                                   NaN                 NaN  \n",
       "0.001                                   NaN                 NaN  \n",
       "0.002                                   NaN                 NaN  \n",
       "0.003                                   NaN                 NaN  \n",
       "0.004                                   NaN                 NaN  \n",
       "0.005                                   NaN                 NaN  \n",
       "0.006                                   NaN                 NaN  \n",
       "0.007                                   NaN                 NaN  \n",
       "0.008                                   NaN                 NaN  \n",
       "0.009                                   NaN                 NaN  \n",
       "0.010                                   NaN                 NaN  "
      ]
     },
     "execution_count": 11,
     "metadata": {},
     "output_type": "execute_result"
    }
   ],
   "source": [
    "likely_outliers_lower = ml.view_likely_outliers(credit_df, max = False)\n",
    "likely_outliers_lower"
   ]
  },
  {
   "cell_type": "code",
   "execution_count": 12,
   "metadata": {
    "collapsed": true
   },
   "outputs": [],
   "source": [
    "# Revolving utilization of unsecured credit lines should be between 0 and 1\n",
    "ml.remove_over_threshold(credit_df, col = \"RevolvingUtilizationOfUnsecuredLines\", value_cutoff = 1)\n"
   ]
  },
  {
   "cell_type": "code",
   "execution_count": 13,
   "metadata": {
    "collapsed": true
   },
   "outputs": [],
   "source": [
    "ml.remove_over_threshold(credit_df, 'DebtRatio', 0.999)"
   ]
  },
  {
   "cell_type": "code",
   "execution_count": 14,
   "metadata": {},
   "outputs": [
    {
     "name": "stdout",
     "output_type": "stream",
     "text": [
      "value                                 False  True \n",
      "variable                                          \n",
      "DebtRatio                             40974     42\n",
      "MonthlyIncome                         33042   7974\n",
      "NumberOfDependents                    39979   1037\n",
      "NumberOfOpenCreditLinesAndLoans       41016      0\n",
      "NumberOfTime30-59DaysPastDueNotWorse  41016      0\n",
      "NumberOfTime60-89DaysPastDueNotWorse  41016      0\n",
      "NumberOfTimes90DaysLate               41016      0\n",
      "NumberRealEstateLoansOrLines          41016      0\n",
      "RevolvingUtilizationOfUnsecuredLines  39677   1339\n",
      "SeriousDlqin2yrs                      41016      0\n",
      "age                                   41016      0\n",
      "zipcode                               41016      0\n"
     ]
    }
   ],
   "source": [
    "ml.print_null_freq(credit_df)"
   ]
  },
  {
   "cell_type": "markdown",
   "metadata": {},
   "source": [
    "#### Fill Null Values"
   ]
  },
  {
   "cell_type": "code",
   "execution_count": 15,
   "metadata": {
    "collapsed": true
   },
   "outputs": [],
   "source": [
    "# fill null values  with basic \n",
    "ml.basic_fill_vals(credit_df, \"NumberOfDependents\", method = \"zeros\")"
   ]
  },
  {
   "cell_type": "code",
   "execution_count": 16,
   "metadata": {
    "collapsed": true
   },
   "outputs": [],
   "source": [
    "ml.basic_fill_vals(credit_df, \"MonthlyIncome\", method = \"mean\")"
   ]
  },
  {
   "cell_type": "code",
   "execution_count": 17,
   "metadata": {
    "collapsed": true
   },
   "outputs": [],
   "source": [
    "ml.basic_fill_vals(credit_df, \"RevolvingUtilizationOfUnsecuredLines\", method = \"mean\")"
   ]
  },
  {
   "cell_type": "code",
   "execution_count": 18,
   "metadata": {
    "collapsed": true
   },
   "outputs": [],
   "source": [
    "ml.basic_fill_vals(credit_df, \"DebtRatio\", method = \"mean\")"
   ]
  },
  {
   "cell_type": "code",
   "execution_count": 19,
   "metadata": {},
   "outputs": [
    {
     "name": "stdout",
     "output_type": "stream",
     "text": [
      "value                                 False\n",
      "variable                                   \n",
      "DebtRatio                             41016\n",
      "MonthlyIncome                         41016\n",
      "NumberOfDependents                    41016\n",
      "NumberOfOpenCreditLinesAndLoans       41016\n",
      "NumberOfTime30-59DaysPastDueNotWorse  41016\n",
      "NumberOfTime60-89DaysPastDueNotWorse  41016\n",
      "NumberOfTimes90DaysLate               41016\n",
      "NumberRealEstateLoansOrLines          41016\n",
      "RevolvingUtilizationOfUnsecuredLines  41016\n",
      "SeriousDlqin2yrs                      41016\n",
      "age                                   41016\n",
      "zipcode                               41016\n"
     ]
    }
   ],
   "source": [
    "ml.print_null_freq(credit_df)"
   ]
  },
  {
   "cell_type": "markdown",
   "metadata": {},
   "source": [
    "### Explore Data"
   ]
  },
  {
   "cell_type": "code",
   "execution_count": 20,
   "metadata": {
    "collapsed": true
   },
   "outputs": [],
   "source": [
    "explore_df = credit_df[credit_df.columns]"
   ]
  },
  {
   "cell_type": "markdown",
   "metadata": {},
   "source": [
    "#### Feature Distribution"
   ]
  },
  {
   "cell_type": "code",
   "execution_count": 21,
   "metadata": {},
   "outputs": [
    {
     "data": {
      "image/png": "[encoded data removed]",
      "text/plain": [
       "<matplotlib.figure.Figure at 0x1092bf2e8>"
      ]
     },
     "metadata": {},
     "output_type": "display_data"
    }
   ],
   "source": [
    "exp.view_dist(explore_df, [\"zipcode\"])"
   ]
  },
  {
   "cell_type": "markdown",
   "metadata": {},
   "source": [
    "### Feature Correlation "
   ]
  },
  {
   "cell_type": "markdown",
   "metadata": {},
   "source": [
    "#### Pearson Correlation\n",
    "\n",
    "There appears to be a significant amount of correlation between number of times 30-59 days late, the number of times 60-89 days late, and number of times 90+ days late, that is, a sample who has made a late payment in the 30-60 day window is likely to have also made late payments in the 60-90 day window and 90+ days after due date. As could be expected, the number of real estate loans or lines of credit is correlated with the total number of lines of credit or loans held by a sample. There appears to be relatively low correlation between other predictors."
   ]
  },
  {
   "cell_type": "code",
   "execution_count": 22,
   "metadata": {},
   "outputs": [
    {
     "data": {
      "image/png": "[encoded data removed]",
      "text/plain": [
       "<matplotlib.figure.Figure at 0x10c4b4668>"
      ]
     },
     "metadata": {},
     "output_type": "display_data"
    }
   ],
   "source": [
    "exp.check_corr(explore_df, geo_columns = [\"zipcode\"])"
   ]
  },
  {
   "cell_type": "markdown",
   "metadata": {},
   "source": [
    "### Generation of Features/ Predictors and Additional Exploration"
   ]
  },
  {
   "cell_type": "markdown",
   "metadata": {},
   "source": [
    "#### Discretization of Non-Categorical Variables"
   ]
  },
  {
   "cell_type": "code",
   "execution_count": 23,
   "metadata": {},
   "outputs": [
    {
     "data": {
      "text/html": [
       "<div>\n",
       "<style>\n",
       "    .dataframe thead tr:only-child th {\n",
       "        text-align: right;\n",
       "    }\n",
       "\n",
       "    .dataframe thead th {\n",
       "        text-align: left;\n",
       "    }\n",
       "\n",
       "    .dataframe tbody tr th {\n",
       "        vertical-align: top;\n",
       "    }\n",
       "</style>\n",
       "<table border=\"1\" class=\"dataframe\">\n",
       "  <thead>\n",
       "    <tr style=\"text-align: right;\">\n",
       "      <th></th>\n",
       "      <th>SeriousDlqin2yrs</th>\n",
       "      <th>RevolvingUtilizationOfUnsecuredLines</th>\n",
       "      <th>age</th>\n",
       "      <th>zipcode</th>\n",
       "      <th>NumberOfTime30-59DaysPastDueNotWorse</th>\n",
       "      <th>DebtRatio</th>\n",
       "      <th>MonthlyIncome</th>\n",
       "      <th>NumberOfOpenCreditLinesAndLoans</th>\n",
       "      <th>NumberOfTimes90DaysLate</th>\n",
       "      <th>NumberRealEstateLoansOrLines</th>\n",
       "      <th>...</th>\n",
       "      <th>RevolvingUtilizationOfUnsecuredLines_bin</th>\n",
       "      <th>age_bin</th>\n",
       "      <th>NumberOfTime30-59DaysPastDueNotWorse_bin</th>\n",
       "      <th>DebtRatio_bin</th>\n",
       "      <th>MonthlyIncome_bin</th>\n",
       "      <th>NumberOfOpenCreditLinesAndLoans_bin</th>\n",
       "      <th>NumberOfTimes90DaysLate_bin</th>\n",
       "      <th>NumberRealEstateLoansOrLines_bin</th>\n",
       "      <th>NumberOfTime60-89DaysPastDueNotWorse_bin</th>\n",
       "      <th>NumberOfDependents_bin</th>\n",
       "    </tr>\n",
       "    <tr>\n",
       "      <th>PersonID</th>\n",
       "      <th></th>\n",
       "      <th></th>\n",
       "      <th></th>\n",
       "      <th></th>\n",
       "      <th></th>\n",
       "      <th></th>\n",
       "      <th></th>\n",
       "      <th></th>\n",
       "      <th></th>\n",
       "      <th></th>\n",
       "      <th></th>\n",
       "      <th></th>\n",
       "      <th></th>\n",
       "      <th></th>\n",
       "      <th></th>\n",
       "      <th></th>\n",
       "      <th></th>\n",
       "      <th></th>\n",
       "      <th></th>\n",
       "      <th></th>\n",
       "      <th></th>\n",
       "    </tr>\n",
       "  </thead>\n",
       "  <tbody>\n",
       "    <tr>\n",
       "      <th>98976</th>\n",
       "      <td>0</td>\n",
       "      <td>1.000000</td>\n",
       "      <td>55</td>\n",
       "      <td>60601</td>\n",
       "      <td>0</td>\n",
       "      <td>505.000000</td>\n",
       "      <td>0.0</td>\n",
       "      <td>2</td>\n",
       "      <td>0</td>\n",
       "      <td>0</td>\n",
       "      <td>...</td>\n",
       "      <td>(0.9, 1.0]</td>\n",
       "      <td>[50.0, 60.0)</td>\n",
       "      <td>(-0.1, 14.0]</td>\n",
       "      <td>(-11.0, 1617.0]</td>\n",
       "      <td>(-1794.0, 256294.0]</td>\n",
       "      <td>(-0.1, 8.0]</td>\n",
       "      <td>(-0.1, 14.0]</td>\n",
       "      <td>(-0.0, 5.0]</td>\n",
       "      <td>(-0.1, 14.0]</td>\n",
       "      <td>(-0.0, 2.0]</td>\n",
       "    </tr>\n",
       "    <tr>\n",
       "      <th>98991</th>\n",
       "      <td>0</td>\n",
       "      <td>0.547745</td>\n",
       "      <td>71</td>\n",
       "      <td>60601</td>\n",
       "      <td>0</td>\n",
       "      <td>0.459565</td>\n",
       "      <td>15666.0</td>\n",
       "      <td>7</td>\n",
       "      <td>0</td>\n",
       "      <td>2</td>\n",
       "      <td>...</td>\n",
       "      <td>(0.4, 0.6]</td>\n",
       "      <td>[70.0, 80.0)</td>\n",
       "      <td>(-0.1, 14.0]</td>\n",
       "      <td>(-11.0, 1617.0]</td>\n",
       "      <td>(-1794.0, 256294.0]</td>\n",
       "      <td>(-0.1, 8.0]</td>\n",
       "      <td>(-0.1, 14.0]</td>\n",
       "      <td>(-0.0, 5.0]</td>\n",
       "      <td>(-0.1, 14.0]</td>\n",
       "      <td>(-0.0, 2.0]</td>\n",
       "    </tr>\n",
       "    <tr>\n",
       "      <th>99012</th>\n",
       "      <td>0</td>\n",
       "      <td>0.044280</td>\n",
       "      <td>51</td>\n",
       "      <td>60601</td>\n",
       "      <td>0</td>\n",
       "      <td>0.014520</td>\n",
       "      <td>4200.0</td>\n",
       "      <td>5</td>\n",
       "      <td>0</td>\n",
       "      <td>0</td>\n",
       "      <td>...</td>\n",
       "      <td>(-0.001, 0.1]</td>\n",
       "      <td>[50.0, 60.0)</td>\n",
       "      <td>(-0.1, 14.0]</td>\n",
       "      <td>(-11.0, 1617.0]</td>\n",
       "      <td>(-1794.0, 256294.0]</td>\n",
       "      <td>(-0.1, 8.0]</td>\n",
       "      <td>(-0.1, 14.0]</td>\n",
       "      <td>(-0.0, 5.0]</td>\n",
       "      <td>(-0.1, 14.0]</td>\n",
       "      <td>(-0.0, 2.0]</td>\n",
       "    </tr>\n",
       "    <tr>\n",
       "      <th>99023</th>\n",
       "      <td>0</td>\n",
       "      <td>0.914249</td>\n",
       "      <td>55</td>\n",
       "      <td>60601</td>\n",
       "      <td>4</td>\n",
       "      <td>0.794875</td>\n",
       "      <td>9052.0</td>\n",
       "      <td>12</td>\n",
       "      <td>0</td>\n",
       "      <td>3</td>\n",
       "      <td>...</td>\n",
       "      <td>(0.9, 1.0]</td>\n",
       "      <td>[50.0, 60.0)</td>\n",
       "      <td>(-0.1, 14.0]</td>\n",
       "      <td>(-11.0, 1617.0]</td>\n",
       "      <td>(-1794.0, 256294.0]</td>\n",
       "      <td>(8.0, 16.0]</td>\n",
       "      <td>(-0.1, 14.0]</td>\n",
       "      <td>(-0.0, 5.0]</td>\n",
       "      <td>(-0.1, 14.0]</td>\n",
       "      <td>(-0.0, 2.0]</td>\n",
       "    </tr>\n",
       "    <tr>\n",
       "      <th>99027</th>\n",
       "      <td>0</td>\n",
       "      <td>0.026599</td>\n",
       "      <td>45</td>\n",
       "      <td>60601</td>\n",
       "      <td>0</td>\n",
       "      <td>0.049966</td>\n",
       "      <td>10406.0</td>\n",
       "      <td>4</td>\n",
       "      <td>0</td>\n",
       "      <td>0</td>\n",
       "      <td>...</td>\n",
       "      <td>(-0.001, 0.1]</td>\n",
       "      <td>[41.0, 50.0)</td>\n",
       "      <td>(-0.1, 14.0]</td>\n",
       "      <td>(-11.0, 1617.0]</td>\n",
       "      <td>(-1794.0, 256294.0]</td>\n",
       "      <td>(-0.1, 8.0]</td>\n",
       "      <td>(-0.1, 14.0]</td>\n",
       "      <td>(-0.0, 5.0]</td>\n",
       "      <td>(-0.1, 14.0]</td>\n",
       "      <td>(2.0, 4.0]</td>\n",
       "    </tr>\n",
       "  </tbody>\n",
       "</table>\n",
       "<p>5 rows × 23 columns</p>\n",
       "</div>"
      ],
      "text/plain": [
       "          SeriousDlqin2yrs  RevolvingUtilizationOfUnsecuredLines  age  \\\n",
       "PersonID                                                                \n",
       "98976                    0                              1.000000   55   \n",
       "98991                    0                              0.547745   71   \n",
       "99012                    0                              0.044280   51   \n",
       "99023                    0                              0.914249   55   \n",
       "99027                    0                              0.026599   45   \n",
       "\n",
       "          zipcode  NumberOfTime30-59DaysPastDueNotWorse   DebtRatio  \\\n",
       "PersonID                                                              \n",
       "98976       60601                                     0  505.000000   \n",
       "98991       60601                                     0    0.459565   \n",
       "99012       60601                                     0    0.014520   \n",
       "99023       60601                                     4    0.794875   \n",
       "99027       60601                                     0    0.049966   \n",
       "\n",
       "          MonthlyIncome  NumberOfOpenCreditLinesAndLoans  \\\n",
       "PersonID                                                   \n",
       "98976               0.0                                2   \n",
       "98991           15666.0                                7   \n",
       "99012            4200.0                                5   \n",
       "99023            9052.0                               12   \n",
       "99027           10406.0                                4   \n",
       "\n",
       "          NumberOfTimes90DaysLate  NumberRealEstateLoansOrLines  \\\n",
       "PersonID                                                          \n",
       "98976                           0                             0   \n",
       "98991                           0                             2   \n",
       "99012                           0                             0   \n",
       "99023                           0                             3   \n",
       "99027                           0                             0   \n",
       "\n",
       "                  ...            RevolvingUtilizationOfUnsecuredLines_bin  \\\n",
       "PersonID          ...                                                       \n",
       "98976             ...                                          (0.9, 1.0]   \n",
       "98991             ...                                          (0.4, 0.6]   \n",
       "99012             ...                                       (-0.001, 0.1]   \n",
       "99023             ...                                          (0.9, 1.0]   \n",
       "99027             ...                                       (-0.001, 0.1]   \n",
       "\n",
       "               age_bin NumberOfTime30-59DaysPastDueNotWorse_bin  \\\n",
       "PersonID                                                          \n",
       "98976     [50.0, 60.0)                             (-0.1, 14.0]   \n",
       "98991     [70.0, 80.0)                             (-0.1, 14.0]   \n",
       "99012     [50.0, 60.0)                             (-0.1, 14.0]   \n",
       "99023     [50.0, 60.0)                             (-0.1, 14.0]   \n",
       "99027     [41.0, 50.0)                             (-0.1, 14.0]   \n",
       "\n",
       "            DebtRatio_bin    MonthlyIncome_bin  \\\n",
       "PersonID                                         \n",
       "98976     (-11.0, 1617.0]  (-1794.0, 256294.0]   \n",
       "98991     (-11.0, 1617.0]  (-1794.0, 256294.0]   \n",
       "99012     (-11.0, 1617.0]  (-1794.0, 256294.0]   \n",
       "99023     (-11.0, 1617.0]  (-1794.0, 256294.0]   \n",
       "99027     (-11.0, 1617.0]  (-1794.0, 256294.0]   \n",
       "\n",
       "         NumberOfOpenCreditLinesAndLoans_bin NumberOfTimes90DaysLate_bin  \\\n",
       "PersonID                                                                   \n",
       "98976                            (-0.1, 8.0]                (-0.1, 14.0]   \n",
       "98991                            (-0.1, 8.0]                (-0.1, 14.0]   \n",
       "99012                            (-0.1, 8.0]                (-0.1, 14.0]   \n",
       "99023                            (8.0, 16.0]                (-0.1, 14.0]   \n",
       "99027                            (-0.1, 8.0]                (-0.1, 14.0]   \n",
       "\n",
       "         NumberRealEstateLoansOrLines_bin  \\\n",
       "PersonID                                    \n",
       "98976                         (-0.0, 5.0]   \n",
       "98991                         (-0.0, 5.0]   \n",
       "99012                         (-0.0, 5.0]   \n",
       "99023                         (-0.0, 5.0]   \n",
       "99027                         (-0.0, 5.0]   \n",
       "\n",
       "         NumberOfTime60-89DaysPastDueNotWorse_bin NumberOfDependents_bin  \n",
       "PersonID                                                                  \n",
       "98976                                (-0.1, 14.0]            (-0.0, 2.0]  \n",
       "98991                                (-0.1, 14.0]            (-0.0, 2.0]  \n",
       "99012                                (-0.1, 14.0]            (-0.0, 2.0]  \n",
       "99023                                (-0.1, 14.0]            (-0.0, 2.0]  \n",
       "99027                                (-0.1, 14.0]             (2.0, 4.0]  \n",
       "\n",
       "[5 rows x 23 columns]"
      ]
     },
     "execution_count": 23,
     "metadata": {},
     "output_type": "execute_result"
    }
   ],
   "source": [
    "exp.discretize_cols(explore_df, ['zipcode'], 7)\n",
    "explore_df.head()"
   ]
  },
  {
   "cell_type": "code",
   "execution_count": 24,
   "metadata": {},
   "outputs": [
    {
     "data": {
      "image/png": "[encoded data removed]",
      "text/plain": [
       "<matplotlib.figure.Figure at 0x1a18ed7908>"
      ]
     },
     "metadata": {},
     "output_type": "display_data"
    }
   ],
   "source": [
    "explore_df[\"age_bin\"].value_counts().sort_index().plot(kind='bar')\n",
    "plt.show()"
   ]
  },
  {
   "cell_type": "code",
   "execution_count": 25,
   "metadata": {},
   "outputs": [
    {
     "data": {
      "image/png": "[encoded data removed]",
      "text/plain": [
       "<matplotlib.figure.Figure at 0x110e0a940>"
      ]
     },
     "metadata": {},
     "output_type": "display_data"
    }
   ],
   "source": [
    "explore_df[\"DebtRatio_bin\"].value_counts().sort_index().plot(kind='bar')\n",
    "plt.show()"
   ]
  },
  {
   "cell_type": "markdown",
   "metadata": {},
   "source": [
    "#### Inter-Variable Correlation"
   ]
  },
  {
   "cell_type": "code",
   "execution_count": null,
   "metadata": {
    "collapsed": true
   },
   "outputs": [],
   "source": [
    "# observe distributions and correlations of features \n",
    "def plot_corr(df, geo_columns, color_category):\n",
    "    non_categoricals = isolate_noncategoricals(df, ret_categoricals = False, geo_cols = geo_columns)\n",
    "    plot_list = non_categoricals + [color_category]\n",
    "    corr = sns.pairplot(df[plot_list], hue = color_category, palette = \"Set2\")"
   ]
  },
  {
   "cell_type": "code",
   "execution_count": null,
   "metadata": {
    "scrolled": true
   },
   "outputs": [],
   "source": [
    "exp.plot_corr(explore_df, geo_columns = [\"zipcode\"], color_category = \"DebtRatio_bin\")"
   ]
  },
  {
   "cell_type": "markdown",
   "metadata": {},
   "source": [
    "#### Debt Ratio and Credit Utilization Breakdown by Age & Credit Utiliziation Breakdown by Debt Ratio \n",
    "\n",
    "Age alone does not appear to be a predicting debt ratio--each grouping of debt ratio appears to be spread fairly evenly across age groups, with most samples concentrated around median debt ratio value just below 0.4%. \n",
    "\n",
    "Though there appears to be a slight decline in utilization of credit in older age groups (80 years or older), there are far fewer samples in these age group, which could be influencing results with downward bias. Somewhat surprisingly, a higher debt ratio does not appear to be correlated with higher revolving credit utilization.\n"
   ]
  },
  {
   "cell_type": "code",
   "execution_count": null,
   "metadata": {},
   "outputs": [],
   "source": [
    "exp.plot_relationship(explore_df, feature_x = 'age', xlabel = 'Age', feature_y = 'DebtRatio', ylabel = 'Debt Ratio', color_cat = 'DebtRatio_bin')"
   ]
  },
  {
   "cell_type": "code",
   "execution_count": null,
   "metadata": {},
   "outputs": [],
   "source": [
    "exp.plot_relationship(explore_df, feature_x = 'age', xlabel = 'Age', feature_y = 'RevolvingUtilizationOfUnsecuredLines', ylabel = 'Revolving Utilization Of Unsecured Lines of Credit')"
   ]
  },
  {
   "cell_type": "code",
   "execution_count": null,
   "metadata": {},
   "outputs": [],
   "source": [
    "exp.plot_relationship(explore_df, feature_x = 'age', xlabel = 'Age', feature_y = 'MonthlyIncome', ylabel = 'Monthly Income', xlimit = (0, None), ylimit = (0, 750000))"
   ]
  },
  {
   "cell_type": "code",
   "execution_count": null,
   "metadata": {},
   "outputs": [],
   "source": [
    "exp.plot_relationship(explore_df, feature_x = 'DebtRatio', xlabel = 'Debt Ratio', feature_y = 'RevolvingUtilizationOfUnsecuredLines', ylabel = 'Revolving Utilization of Unsecured Lines', xlimit = (0, None), ylimit = (0, 1.1))"
   ]
  },
  {
   "cell_type": "markdown",
   "metadata": {},
   "source": [
    "#### Payment Delinquency Across Age Groups "
   ]
  },
  {
   "cell_type": "code",
   "execution_count": null,
   "metadata": {},
   "outputs": [],
   "source": [
    "exp.eval_ratios(explore_df, include_cols = ['age_bin', 'SeriousDlqin2yrs'], category_cols = ['age_bin'], method = \"sum\", pct = True)"
   ]
  },
  {
   "cell_type": "code",
   "execution_count": null,
   "metadata": {},
   "outputs": [],
   "source": [
    "payment_cols = ['NumberOfTime30-59DaysPastDueNotWorse', 'NumberOfTimes90DaysLate', 'NumberOfTime60-89DaysPastDueNotWorse']\n",
    "crd.payment_grid(explore_df, focus_cols = payment_cols, group_col = 'age_bin')"
   ]
  },
  {
   "cell_type": "markdown",
   "metadata": {},
   "source": [
    "### Open Credit Lines and Loans Breakdown by Debt Ratio, Age, and Zip Code\n",
    "\n",
    "For the six zip codes included in sample, the median number of open credit lines majority of persons in the 31-79 age ran is 7-8, with a temporary jump in all zip codes to 9 in the 50-59 decade. only a portion of  samples in age ranges 41-69 had significantly more open lines of credit than other groups, with the vast majority in the 50-59 range. "
   ]
  },
  {
   "cell_type": "markdown",
   "metadata": {},
   "source": [
    "#### Number of Samples by Zip Code"
   ]
  },
  {
   "cell_type": "code",
   "execution_count": null,
   "metadata": {},
   "outputs": [],
   "source": [
    "explore_df[\"zipcode\"].value_counts().sort_index().plot(kind='bar')\n",
    "plt.show()"
   ]
  },
  {
   "cell_type": "markdown",
   "metadata": {},
   "source": [
    "#### Median Open Credit Lines and Loans by Debt Ratio Bracket Across Zip Codes"
   ]
  },
  {
   "cell_type": "code",
   "execution_count": null,
   "metadata": {
    "scrolled": false
   },
   "outputs": [],
   "source": [
    "zip_open_credits_median = exp.feature_by_geo(explore_df, geo = 'zipcode', expl_var = [\"DebtRatio_bin\"], num_var = \"NumberOfOpenCreditLinesAndLoans\")\n",
    "zip_open_credits_median"
   ]
  },
  {
   "cell_type": "markdown",
   "metadata": {},
   "source": [
    "#### Count of Open Credit Lines and Loans by Debt Ratio Bracket Across Zip Codes"
   ]
  },
  {
   "cell_type": "code",
   "execution_count": null,
   "metadata": {},
   "outputs": [],
   "source": [
    "zip_open_credits_count = exp.feature_by_geo(explore_df, 'zipcode', [\"DebtRatio_bin\"], \"NumberOfOpenCreditLinesAndLoans\", method = \"count\")\n",
    "zip_open_credits_count.transform(lambda x: x/x.sum())"
   ]
  },
  {
   "cell_type": "markdown",
   "metadata": {},
   "source": [
    "#### Median Open Credit Lines and Loans by Age Group Across Zip Codes"
   ]
  },
  {
   "cell_type": "code",
   "execution_count": null,
   "metadata": {},
   "outputs": [],
   "source": [
    "zip_open_credits_median_age = exp.feature_by_geo(explore_df, 'zipcode', [\"age_bin\"], \"NumberOfOpenCreditLinesAndLoans\", method = \"median\")\n",
    "zip_open_credits_median_age"
   ]
  },
  {
   "cell_type": "markdown",
   "metadata": {},
   "source": [
    "#### Count of Open Credit Lines and Loans by Age Group Across Zip Codes"
   ]
  },
  {
   "cell_type": "code",
   "execution_count": null,
   "metadata": {},
   "outputs": [],
   "source": [
    "zip_open_credits_count_age = exp.feature_by_geo(explore_df, 'zipcode', [\"age_bin\"], \"NumberOfOpenCreditLinesAndLoans\", method = \"count\")\n",
    "zip_open_credits_count_age"
   ]
  },
  {
   "cell_type": "markdown",
   "metadata": {},
   "source": [
    "#### Dummy Variable Creation"
   ]
  },
  {
   "cell_type": "code",
   "execution_count": null,
   "metadata": {
    "collapsed": true,
    "scrolled": true
   },
   "outputs": [],
   "source": [
    "to_dummy = ['NumberOfTime30-59DaysPastDueNotWorse', 'NumberOfTimes90DaysLate', 'NumberOfTime60-89DaysPastDueNotWorse','NumberOfDependents']\n",
    "dummy_flags = ['NumberOfTimes', 'NumberOfTime', 'NumberOf']"
   ]
  },
  {
   "cell_type": "code",
   "execution_count": null,
   "metadata": {
    "collapsed": true
   },
   "outputs": [],
   "source": [
    "exp.create_binary_vars(explore_df, to_dummy, dummy_flags)"
   ]
  },
  {
   "cell_type": "code",
   "execution_count": null,
   "metadata": {},
   "outputs": [],
   "source": [
    "explore_df.head()"
   ]
  },
  {
   "cell_type": "markdown",
   "metadata": {},
   "source": [
    "#### Monthly Income by Number of Dependents \n",
    "\n",
    "In most zip codes, samples with dependents have monthly income \\$1200-\\$1500 higher than those without. In zip code 60644, this difference i over \\$2000.  "
   ]
  },
  {
   "cell_type": "code",
   "execution_count": null,
   "metadata": {},
   "outputs": [],
   "source": [
    "crd.standardized_comparison(explore_df, primary_cols = ['tf_Dependents', 'MonthlyIncome'], group_cols = ['tf_Dependents'])"
   ]
  },
  {
   "cell_type": "code",
   "execution_count": null,
   "metadata": {},
   "outputs": [],
   "source": [
    "crd.standardized_comparison(explore_df, primary_cols = ['zipcode', 'MonthlyIncome'], insert_col = 'tf_Dependents', group_cols = ['zipcode']).reset_index().set_index('zipcode')"
   ]
  },
  {
   "cell_type": "markdown",
   "metadata": {},
   "source": [
    "#### Delinquent Payments by Montly Income\n",
    "\n",
    "There appears to be about a \\$300 difference in monthly income between samples who heave made a payment between 30 and 59 days late in the last two years and those who did not make late payments, but a \\$1200-\\$1500 difference between samples who have made payments more than 60 days late. Zip code 60644 is the exception, with differences in monthly income between samples making late payments and those who made none in the multiple thousands of dollars."
   ]
  },
  {
   "cell_type": "code",
   "execution_count": null,
   "metadata": {},
   "outputs": [],
   "source": [
    "crd.standardized_comparison(explore_df, primary_cols = ['zipcode', 'MonthlyIncome'], insert_col = 'tf_30-59DaysPastDueNotWorse', group_cols = ['zipcode'])"
   ]
  },
  {
   "cell_type": "code",
   "execution_count": null,
   "metadata": {},
   "outputs": [],
   "source": [
    "crd.standardized_comparison(explore_df, primary_cols = ['zipcode', 'MonthlyIncome'], insert_col = 'tf_60-89DaysPastDueNotWorse', group_cols = ['zipcode'])"
   ]
  },
  {
   "cell_type": "code",
   "execution_count": null,
   "metadata": {},
   "outputs": [],
   "source": [
    "crd.standardized_comparison(explore_df, primary_cols = ['zipcode', 'MonthlyIncome'], insert_col = 'tf_90DaysLate', group_cols = ['zipcode'])"
   ]
  },
  {
   "cell_type": "markdown",
   "metadata": {},
   "source": [
    "### Build and Evaluate Classifier\n",
    "\n",
    "Using the sklearn decision tree, I built and tested 108 versions of a decision tree model with varying parameters. I used the accuracy score for evaluation (as noted in assignment instructions), and identified the importance of each feature for the most accurate model. Finally, I created a graphic of the most accurate decision tree model."
   ]
  },
  {
   "cell_type": "markdown",
   "metadata": {},
   "source": [
    "#### Separate Training and Test Data"
   ]
  },
  {
   "cell_type": "code",
   "execution_count": null,
   "metadata": {
    "collapsed": true
   },
   "outputs": [],
   "source": [
    "x_train, x_test, y_train, y_test = md.split_data(credit_df, outcome_var = \"SeriousDlqin2yrs\", geo_columns = ['zipcode'], test_size = 0.25)"
   ]
  },
  {
   "cell_type": "code",
   "execution_count": null,
   "metadata": {},
   "outputs": [],
   "source": [
    "print(x_train.shape)\n",
    "print(y_train.shape)\n",
    "print(x_test.shape)\n",
    "print(y_test.shape)"
   ]
  },
  {
   "cell_type": "markdown",
   "metadata": {},
   "source": [
    "#### Build and Test Decision Tree Models"
   ]
  },
  {
   "cell_type": "code",
   "execution_count": null,
   "metadata": {
    "collapsed": true
   },
   "outputs": [],
   "source": [
    "# parameters for looping sourced from example at https://github.com/rayidghani/magicloops/blob/master/mlfunctions.py\n",
    "dt_params = {'criterion': ['gini', 'entropy'], 'max_depth': [1,5,10,20,50,100], 'max_features': [None, 'sqrt','log2'],'min_samples_split': [2,5,10]}"
   ]
  },
  {
   "cell_type": "code",
   "execution_count": null,
   "metadata": {
    "collapsed": true
   },
   "outputs": [],
   "source": [
    "dt_results = md.loop_dt(dt_params, training_predictors = x_train, testing_predictors = x_test, training_outcome = y_train, testing_outcome = y_test)"
   ]
  },
  {
   "cell_type": "code",
   "execution_count": null,
   "metadata": {
    "scrolled": true
   },
   "outputs": [],
   "source": [
    "dt_results_ordered = dt_results.sort_values('test_acc', ascending = False)\n",
    "dt_results_ordered.head(20)"
   ]
  },
  {
   "cell_type": "code",
   "execution_count": null,
   "metadata": {},
   "outputs": [],
   "source": [
    "dt_results_ordered.tail(20)"
   ]
  },
  {
   "cell_type": "code",
   "execution_count": null,
   "metadata": {},
   "outputs": [],
   "source": [
    "dec_tree = md.create_best_tree(accuracy_df = dt_results, training_predictors = x_train, training_outcome = y_train)"
   ]
  },
  {
   "cell_type": "code",
   "execution_count": null,
   "metadata": {},
   "outputs": [],
   "source": [
    "md.feature_importance_ranking(dec_tree, training_predictors = x_train)"
   ]
  },
  {
   "cell_type": "markdown",
   "metadata": {},
   "source": [
    "#### Decision Tree Visual"
   ]
  },
  {
   "cell_type": "code",
   "execution_count": null,
   "metadata": {
    "scrolled": true
   },
   "outputs": [],
   "source": [
    "md.visualize_best_tree(dec_tree, training_predictors = x_train)"
   ]
  }
 ],
 "metadata": {
  "kernelspec": {
   "display_name": "Python 3",
   "language": "python",
   "name": "python3"
  },
  "language_info": {
   "codemirror_mode": {
    "name": "ipython",
    "version": 3
   },
   "file_extension": ".py",
   "mimetype": "text/x-python",
   "name": "python",
   "nbconvert_exporter": "python",
   "pygments_lexer": "ipython3",
   "version": "3.6.3"
  }
 },
 "nbformat": 4,
 "nbformat_minor": 2
}
